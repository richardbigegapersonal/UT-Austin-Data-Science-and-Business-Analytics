{
  "nbformat": 4,
  "nbformat_minor": 0,
  "metadata": {
    "colab": {
      "name": "SessionNotebook - Get Started with Python S1.ipynb",
      "provenance": [],
      "collapsed_sections": []
    },
    "kernelspec": {
      "name": "python3",
      "display_name": "Python 3"
    },
    "language_info": {
      "name": "python"
    }
  },
  "cells": [
    {
      "cell_type": "markdown",
      "metadata": {
        "id": "handmade-generator"
      },
      "source": [
        "**Let's display our first message in python.**\n",
        "\n",
        "* We can use the print() function for this purpose."
      ]
    },
    {
      "cell_type": "code",
      "metadata": {
        "colab": {
          "base_uri": "https://localhost:8080/"
        },
        "id": "capable-munich",
        "outputId": "eb0dab5c-a0d3-42b9-84b8-2924615c397b"
      },
      "source": [
        "print(\"Hello World!\")"
      ],
      "execution_count": null,
      "outputs": [
        {
          "output_type": "stream",
          "text": [
            "Hello World!\n"
          ],
          "name": "stdout"
        }
      ]
    },
    {
      "cell_type": "markdown",
      "metadata": {
        "id": "DvOmDn253Ojd"
      },
      "source": [
        "Let's print some more values."
      ]
    },
    {
      "cell_type": "code",
      "metadata": {
        "colab": {
          "base_uri": "https://localhost:8080/"
        },
        "id": "2vhAosBw3NE4",
        "outputId": "b999669c-418a-4c39-92ef-40b25e9058c8"
      },
      "source": [
        "# printing the current year\n",
        "print(2021)"
      ],
      "execution_count": null,
      "outputs": [
        {
          "output_type": "stream",
          "text": [
            "2021\n"
          ],
          "name": "stdout"
        }
      ]
    },
    {
      "cell_type": "code",
      "metadata": {
        "colab": {
          "base_uri": "https://localhost:8080/"
        },
        "id": "bZlJG8pU3TdL",
        "outputId": "163c1cf4-db68-4459-edae-2acbefe57c8f"
      },
      "source": [
        "# printing the value of pi upto 2 decimal places\n",
        "print(3.14)"
      ],
      "execution_count": null,
      "outputs": [
        {
          "output_type": "stream",
          "text": [
            "3.14\n"
          ],
          "name": "stdout"
        }
      ]
    },
    {
      "cell_type": "markdown",
      "metadata": {
        "id": "PCx-TC5a2izd"
      },
      "source": [
        "In the above cells, we have printed different values of different data types. \n",
        "\n",
        "There are various data types in Python, such as:\n",
        "1. Numeric - This is further divided into:\n",
        "\n",
        "    (a) Integer (int) - 2021\n",
        "    \n",
        "    (b) Float (float) - 3.13\n",
        "    \n",
        "2. String (str) - 'Hello World!'"
      ]
    },
    {
      "cell_type": "markdown",
      "metadata": {
        "id": "9PhFcZNs4Cbs"
      },
      "source": [
        "\n",
        "* We might want to refer to the above-printed values later in the session.\n",
        "* But we will have to print them again if we want to do so.\n",
        "* Can we store these values?\n",
        "* Yes, we can. We will have to create a variable that can store a value."
      ]
    },
    {
      "cell_type": "code",
      "metadata": {
        "colab": {
          "base_uri": "https://localhost:8080/"
        },
        "id": "fJlo-JJn4C0E",
        "outputId": "8f96519c-58f2-4773-fe3b-3c8026a0f206"
      },
      "source": [
        "message = 'Hello World!'\n",
        "print(message)"
      ],
      "execution_count": null,
      "outputs": [
        {
          "output_type": "stream",
          "text": [
            "Hello World!\n"
          ],
          "name": "stdout"
        }
      ]
    },
    {
      "cell_type": "markdown",
      "metadata": {
        "id": "missing-conjunction"
      },
      "source": [
        "* In the above cell, 'message' is a **variable**.\n",
        "\n",
        "* Variables can store data of different types.\n",
        "\n",
        "* Let's store other values as well."
      ]
    },
    {
      "cell_type": "code",
      "metadata": {
        "id": "JylwaZ1c2wHg"
      },
      "source": [
        "year = 2021\n",
        "pi = 3.14"
      ],
      "execution_count": null,
      "outputs": []
    },
    {
      "cell_type": "markdown",
      "metadata": {
        "id": "eu9CSBgR5Ilh"
      },
      "source": [
        "* How to check that we have created a variable of which data type?\n",
        "* Python provides an in-built function, called *type()*, to ease the task of checking the data type of a variable."
      ]
    },
    {
      "cell_type": "code",
      "metadata": {
        "colab": {
          "base_uri": "https://localhost:8080/"
        },
        "id": "aV5MFNPj3aFm",
        "outputId": "a1e3846b-bf69-42fd-d059-65305588bafb"
      },
      "source": [
        "type(year)"
      ],
      "execution_count": null,
      "outputs": [
        {
          "output_type": "execute_result",
          "data": {
            "text/plain": [
              "int"
            ]
          },
          "metadata": {
            "tags": []
          },
          "execution_count": 6
        }
      ]
    },
    {
      "cell_type": "code",
      "metadata": {
        "colab": {
          "base_uri": "https://localhost:8080/"
        },
        "id": "uVEjAXww53j1",
        "outputId": "6282d5e6-79fd-4ee5-f02d-00388b8957af"
      },
      "source": [
        "type(pi)"
      ],
      "execution_count": null,
      "outputs": [
        {
          "output_type": "execute_result",
          "data": {
            "text/plain": [
              "float"
            ]
          },
          "metadata": {
            "tags": []
          },
          "execution_count": 7
        }
      ]
    },
    {
      "cell_type": "markdown",
      "metadata": {
        "id": "ntVHhSWpMhjw"
      },
      "source": [
        "# <font color='Blue'> Your turn to code! </font>"
      ]
    },
    {
      "cell_type": "code",
      "metadata": {
        "id": "SCjtzKXU57_u"
      },
      "source": [
        "### Check the data type of the 'message' variable \n"
      ],
      "execution_count": null,
      "outputs": []
    },
    {
      "cell_type": "markdown",
      "metadata": {
        "id": "tg4Z59kO6xg_"
      },
      "source": [
        "* Till now, we have created the variables where we assigned a fixed value to them. \n",
        "* Can we create a variable that can ask for input from the user? Yes, we can\n",
        "* The *input()* function of python will help us do that."
      ]
    },
    {
      "cell_type": "code",
      "metadata": {
        "colab": {
          "base_uri": "https://localhost:8080/"
        },
        "id": "tZqd2gsk59J_",
        "outputId": "971fa953-4455-4cc6-f896-f2c1d752603c"
      },
      "source": [
        "print('Enter your name')\n",
        "name = input()"
      ],
      "execution_count": null,
      "outputs": [
        {
          "output_type": "stream",
          "text": [
            "Enter your name\n",
            "Jack Ryan\n"
          ],
          "name": "stdout"
        }
      ]
    },
    {
      "cell_type": "code",
      "metadata": {
        "colab": {
          "base_uri": "https://localhost:8080/"
        },
        "id": "xxuhX1cd7ZhZ",
        "outputId": "67fbd32b-5181-45c0-cf6a-de525701f5f2"
      },
      "source": [
        "# Let's print the value we took as an input\n",
        "print(name)"
      ],
      "execution_count": null,
      "outputs": [
        {
          "output_type": "stream",
          "text": [
            "Jack Ryan\n"
          ],
          "name": "stdout"
        }
      ]
    },
    {
      "cell_type": "markdown",
      "metadata": {
        "id": "7FDxrM1aMne6"
      },
      "source": [
        "# <font color='Blue'> Your turn to code! </font>"
      ]
    },
    {
      "cell_type": "code",
      "metadata": {
        "id": "LGC5uK_U7hgi"
      },
      "source": [
        "### Create a variable which will take an input of your city \n"
      ],
      "execution_count": null,
      "outputs": []
    },
    {
      "cell_type": "markdown",
      "metadata": {
        "id": "HxpUyitB8FJF"
      },
      "source": [
        "### Arithmetic Operations"
      ]
    },
    {
      "cell_type": "markdown",
      "metadata": {
        "id": "XEqw60_r9kFu"
      },
      "source": [
        "**Which year will we be in 10 years from now?**"
      ]
    },
    {
      "cell_type": "code",
      "metadata": {
        "colab": {
          "base_uri": "https://localhost:8080/"
        },
        "id": "RusiIQVt9cFS",
        "outputId": "9f256609-c6fb-4d0a-e623-1d820168060d"
      },
      "source": [
        "future_year = year + 10\n",
        "print(future_year)"
      ],
      "execution_count": null,
      "outputs": [
        {
          "output_type": "stream",
          "text": [
            "2031\n"
          ],
          "name": "stdout"
        }
      ]
    },
    {
      "cell_type": "markdown",
      "metadata": {
        "id": "VQJFoz3W8rue"
      },
      "source": [
        "**Which year was the person born in if the current age of that person is 20 years?**"
      ]
    },
    {
      "cell_type": "code",
      "metadata": {
        "id": "3IYUNzxh71hN"
      },
      "source": [
        "age = 20"
      ],
      "execution_count": null,
      "outputs": []
    },
    {
      "cell_type": "code",
      "metadata": {
        "colab": {
          "base_uri": "https://localhost:8080/"
        },
        "id": "PL6bYMxj9Whs",
        "outputId": "a4a3ca43-35ea-49a3-a95e-c0d4a6f895b1"
      },
      "source": [
        "birth_year = year - age\n",
        "print(birth_year)"
      ],
      "execution_count": null,
      "outputs": [
        {
          "output_type": "stream",
          "text": [
            "2001\n"
          ],
          "name": "stdout"
        }
      ]
    },
    {
      "cell_type": "markdown",
      "metadata": {
        "id": "6aQnV8-D9dn-"
      },
      "source": [
        "* The person was born in the year 2001."
      ]
    },
    {
      "cell_type": "markdown",
      "metadata": {
        "id": "b9hEiMWGGSn_"
      },
      "source": [
        "### Till now, we have dealt with some common questions. But the operations we have discussed so far and the ones we will discuss ahead can be applied to solve business problems too.\n",
        "\n",
        "### Let's move forward with our discussion on the basis of a superstore's business case."
      ]
    },
    {
      "cell_type": "markdown",
      "metadata": {
        "id": "0-yuGHzh_rQU"
      },
      "source": [
        "**WOW Superstore** sells different products like office supplies, furniture, and appliances. For each order that is placed, the superstore keeps a record of various attributes related to the product, like state, city, category, subcategory, and quantity."
      ]
    },
    {
      "cell_type": "markdown",
      "metadata": {
        "id": "AIvWBVFFDDNf"
      },
      "source": [
        "**The superstore has a stock of 100 phones. Recently, an order was placed for 20 phones. It has to be updated to add 10 more phones.**"
      ]
    },
    {
      "cell_type": "code",
      "metadata": {
        "colab": {
          "base_uri": "https://localhost:8080/"
        },
        "id": "rctSOQpFDSrt",
        "outputId": "75299725-215a-472a-c396-48b11e64ab93"
      },
      "source": [
        "order_init = 20\n",
        "print('Initial order:', order_init)\n",
        "\n",
        "order_upd = order_init + 10\n",
        "print('Updated order:', order_upd)"
      ],
      "execution_count": null,
      "outputs": [
        {
          "output_type": "stream",
          "text": [
            "Initial order: 20\n",
            "Updated order: 30\n"
          ],
          "name": "stdout"
        }
      ]
    },
    {
      "cell_type": "markdown",
      "metadata": {
        "id": "MJRcx7PsD_0D"
      },
      "source": [
        "**The inventory has to be updated as per the updated order. We will have to subtract the quantity of phones in the updated order (order_upd) from the initial inventory count of 100.**"
      ]
    },
    {
      "cell_type": "code",
      "metadata": {
        "colab": {
          "base_uri": "https://localhost:8080/"
        },
        "id": "5FDhCGJ5hIby",
        "outputId": "ac8af267-ea59-459c-891a-104ae9fb6c91"
      },
      "source": [
        "inventory_init = 100\n",
        "print('Initial Inventory:', inventory_init)\n",
        "\n",
        "inventory_upd = inventory_init - order_upd\n",
        "print('Updated Inventory:', inventory_upd)"
      ],
      "execution_count": null,
      "outputs": [
        {
          "output_type": "stream",
          "text": [
            "Initial Inventory: 100\n",
            "Updated Inventory: 70\n"
          ],
          "name": "stdout"
        }
      ]
    },
    {
      "cell_type": "markdown",
      "metadata": {
        "id": "U2K3_vszEuYu"
      },
      "source": [
        "**The cost of each phone is $150.50. Let's compute the total amount for the updated order (order_upd).**"
      ]
    },
    {
      "cell_type": "code",
      "metadata": {
        "colab": {
          "base_uri": "https://localhost:8080/"
        },
        "id": "DkZqTlrVlrSl",
        "outputId": "1a8c78fd-7971-49af-a1ec-747c3cd4c96f"
      },
      "source": [
        "unit_price_phone = 150.50\n",
        "\n",
        "total_amnt_phone = order_upd * unit_price_phone\n",
        "\n",
        "print('Total Order Amount:', total_amnt_phone)"
      ],
      "execution_count": null,
      "outputs": [
        {
          "output_type": "stream",
          "text": [
            "Total Order Amount: 4515.0\n"
          ],
          "name": "stdout"
        }
      ]
    },
    {
      "cell_type": "markdown",
      "metadata": {
        "id": "6SzPByGqIiAV"
      },
      "source": [
        "**A new order has been placed for 5 printers. The unit price of one printer is 20 dollars more than twice the unit price of a phone. Let's find the total amount of the order.**"
      ]
    },
    {
      "cell_type": "code",
      "metadata": {
        "colab": {
          "base_uri": "https://localhost:8080/"
        },
        "id": "FpKeUFVRIiMD",
        "outputId": "bb37bc78-3fd9-4698-99a8-897c0f597098"
      },
      "source": [
        "quantity_printer = 5\n",
        "unit_price_printer = 20 + (2 * unit_price_phone)\n",
        "total_amnt_printer = unit_price_printer * quantity_printer\n",
        "\n",
        "print('Total Order Amount:', total_amnt_printer)"
      ],
      "execution_count": null,
      "outputs": [
        {
          "output_type": "stream",
          "text": [
            "Total Order Amount: 1605.0\n"
          ],
          "name": "stdout"
        }
      ]
    },
    {
      "cell_type": "markdown",
      "metadata": {
        "id": "VGbo5PTTM6ma"
      },
      "source": [
        "# <font color='Blue'> Your turn to code! </font>"
      ]
    },
    {
      "cell_type": "code",
      "metadata": {
        "id": "Jrs80NhuE2mm"
      },
      "source": [
        "## Compute the total amount for an order of 20 chairs. The unit price of the chair is 20 dollars\n"
      ],
      "execution_count": null,
      "outputs": []
    },
    {
      "cell_type": "markdown",
      "metadata": {
        "id": "k-v34x7kHLbJ"
      },
      "source": [
        "### Conditional Operators and Statements"
      ]
    },
    {
      "cell_type": "markdown",
      "metadata": {
        "id": "vFsriq6_HgNS"
      },
      "source": [
        "* Conditional Operators are used to compare two values."
      ]
    },
    {
      "cell_type": "markdown",
      "metadata": {
        "id": "BBII2zD6HLbK"
      },
      "source": [
        "|Operator|Symbol in Python|\n",
        "|---|---|\n",
        "|Equals| ==|\n",
        "| Greater than| >|\n",
        "| Less than| <|"
      ]
    },
    {
      "cell_type": "markdown",
      "metadata": {
        "id": "NyMQcyzyE11k"
      },
      "source": [
        "**Let's check if the total amount for an order of 10 phones at 200 dollars each is greater than 4000 dollars or not?**"
      ]
    },
    {
      "cell_type": "code",
      "metadata": {
        "colab": {
          "base_uri": "https://localhost:8080/"
        },
        "id": "4PPxYw-AE1Ik",
        "outputId": "fb7fcdf9-eba0-4375-fd0f-e1f733e69f58"
      },
      "source": [
        "total_amount = 10*200\n",
        "total_amount > 4000"
      ],
      "execution_count": null,
      "outputs": [
        {
          "output_type": "execute_result",
          "data": {
            "text/plain": [
              "False"
            ]
          },
          "metadata": {
            "tags": []
          },
          "execution_count": 22
        }
      ]
    },
    {
      "cell_type": "markdown",
      "metadata": {
        "id": "DzWw1nGxIVkd"
      },
      "source": [
        "* The value *True* is another data type in Python, called the *bool* type."
      ]
    },
    {
      "cell_type": "markdown",
      "metadata": {
        "id": "kWRMMLS6Ii2q"
      },
      "source": [
        "**Let's check if the total amount for an order of 10 phones at 200 dollars each is equal to 4000 dollars or not?**"
      ]
    },
    {
      "cell_type": "code",
      "metadata": {
        "colab": {
          "base_uri": "https://localhost:8080/"
        },
        "id": "h5zJq9TnIlp7",
        "outputId": "c17ba785-01c6-49df-d6f5-f62ffb9f56e1"
      },
      "source": [
        "total_amount == 4000"
      ],
      "execution_count": null,
      "outputs": [
        {
          "output_type": "execute_result",
          "data": {
            "text/plain": [
              "False"
            ]
          },
          "metadata": {
            "tags": []
          },
          "execution_count": 23
        }
      ]
    },
    {
      "cell_type": "markdown",
      "metadata": {
        "id": "Gn4VYFkPM_I_"
      },
      "source": [
        "# <font color='Blue'> Your turn to code! </font>"
      ]
    },
    {
      "cell_type": "code",
      "metadata": {
        "id": "iESGuCfRIsP8"
      },
      "source": [
        "## Check if the total amount for an order of 20 chairs at 50 dollars each is less than 2000 dollars or not?\n"
      ],
      "execution_count": null,
      "outputs": []
    },
    {
      "cell_type": "markdown",
      "metadata": {
        "id": "pOv4HkEeJ7bs"
      },
      "source": [
        "**If the total amount for an order is less than 400 dollars the shipping charge of 20 dollars is applicable.  Let's display a message that informs a customer about the same.**"
      ]
    },
    {
      "cell_type": "markdown",
      "metadata": {
        "id": "cYbnYbcPK_Er"
      },
      "source": [
        "* In such cases, we need to perform different computations or actions depending on whether a condition is satisfied or not.\n",
        "* Conditional Statements will be useful in cases where we have to make decisions.\n",
        "* Python uses *if-else* statements for such decision-making operations. "
      ]
    },
    {
      "cell_type": "code",
      "metadata": {
        "colab": {
          "base_uri": "https://localhost:8080/"
        },
        "id": "fDbVW2YDKOOI",
        "outputId": "04388b86-0015-4b03-946e-712c2b174557"
      },
      "source": [
        "if total_amount < 400:\n",
        "  print('20 dollars shipping charges are applicable on this order')\n",
        "else:\n",
        "  print('No shipping charges on this order!')"
      ],
      "execution_count": null,
      "outputs": [
        {
          "output_type": "stream",
          "text": [
            "No shipping charges on this order!\n"
          ],
          "name": "stdout"
        }
      ]
    },
    {
      "cell_type": "markdown",
      "metadata": {
        "id": "dependent-administrator"
      },
      "source": [
        "**For the upcoming Black Friday sale, the superstore is providing a discount of 20% on phones but, there is no discount on any other product.**\n",
        "\n",
        "**For a given product, let's display a message that informs a customer about how much discount they will get on their order.**"
      ]
    },
    {
      "cell_type": "code",
      "metadata": {
        "colab": {
          "base_uri": "https://localhost:8080/"
        },
        "id": "quarterly-apartment",
        "outputId": "ad1a8763-a575-475b-8290-86a0b1b1349b"
      },
      "source": [
        "print('Enter the product: ')\n",
        "product = input()\n",
        "\n",
        "if product == 'phone':\n",
        "    print('You will receive a 20% discount on this product!!')\n",
        "else:\n",
        "    print('Sorry! There is no discount on this product.')"
      ],
      "execution_count": null,
      "outputs": [
        {
          "output_type": "stream",
          "text": [
            "Enter the product: \n",
            "phone\n",
            "You will receive a 20% discount on this product!!\n"
          ],
          "name": "stdout"
        }
      ]
    }
  ]
}